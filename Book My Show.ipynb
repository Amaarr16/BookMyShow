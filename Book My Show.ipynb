{
 "cells": [
  {
   "cell_type": "code",
   "id": "9ee11387",
   "metadata": {
    "jupyter": {
     "is_executing": true
    }
   },
   "source": [
    "print(\"Welcome to Book My Show\")\n",
    "#city()"
   ],
   "outputs": [],
   "execution_count": null
  },
  {
   "cell_type": "code",
   "id": "05536fbd",
   "metadata": {},
   "source": [
    "def city():\n",
    "    print(\"Please select a city\\n1.Bengaluru\\n2.Lucknow\\n3.Delhi\\n4.Mumbai\")\n",
    "    c=int(input())\n",
    "    if c==1:\n",
    "        print(\"You have selected Bengaluru\")\n",
    "    elif c==2:\n",
    "        print(\"You have selected Lucknow\")\n",
    "    elif c==3:\n",
    "        print(\"You have selected Delhi\")\n",
    "    elif c==4:\n",
    "        print(\"You have selected Mumbai\")\n",
    "    else:\n",
    "        print(\"Please enter a valid option\")\n",
    "        city()\n",
    "    t_movie()\n",
    "     "
   ],
   "outputs": [],
   "execution_count": null
  },
  {
   "cell_type": "code",
   "id": "946f4142",
   "metadata": {},
   "source": [
    "def t_movie():\n",
    "    print(\"Please select a movie you would like to see\\n1.Demon Slayer\\n2.Deadpool VS Wolverine\\n3.Kung-Fu Panda\\n4.back\")\n",
    "    t=int(input())\n",
    "    if t==1:\n",
    "        print(\"You have selected Demon Slayer\")\n",
    "    elif t==2:\n",
    "        print(\"You have selected Deadpool VS Wolverine\")\n",
    "    elif t==3:\n",
    "        print(\"You have selected Kung-Fu Panda\")\n",
    "    elif t==4:\n",
    "        city()\n",
    "    else:\n",
    "        print(\"Please enter a valid option\")\n",
    "        t_movie()\n",
    "    theatre()\n",
    "    return "
   ],
   "outputs": [],
   "execution_count": null
  },
  {
   "cell_type": "code",
   "id": "5a5bf9d2",
   "metadata": {},
   "source": [
    "def theatre():\n",
    "    print(\"Please select the Theatre\\n1.INOX\\n2.PVR\\n3.back\")\n",
    "    h=int(input())\n",
    "    if h==1:\n",
    "        print(\"You have selected INOX\")\n",
    "    elif h==2:\n",
    "        print(\"You have selected PVR\")\n",
    "    elif h==3:\n",
    "        t_movie()\n",
    "    else:\n",
    "        print(\"Please enter a valid option\")\n",
    "        theatre()\n",
    "    print(\"If you select 3-5 seats you get a discount of 5%\")\n",
    "    print(\"If you select 6-10 seats you get a discount of 10%\")\n",
    "    print(\"If you select more than 10 seats you get a discount of 15%\")\n",
    "    y=int(input(\"Enter number of seats \"))\n",
    "    \n",
    "    print(\"Selected number of seats=\",y)\n",
    "    if y>=3 and y<=5:\n",
    "        print(\"You have availed a discount of 5%\")\n",
    "    elif y>=6 and y<=10:\n",
    "        print(\"You have availed a discount of 10%\")\n",
    "    elif y>10:\n",
    "        print(\"You have availed a discount of 15%\")\n",
    "    \n",
    "    screen()\n",
    "    return \n",
    "        \n",
    "    "
   ],
   "outputs": [],
   "execution_count": null
  },
  {
   "cell_type": "code",
   "id": "47393221",
   "metadata": {},
   "source": [
    "def screen():\n",
    "    print(\"Available timings for screens\")\n",
    "    print(\"Screen 1=1.10:00-1:00\\n\\t 2.1:10-4:10\\n\\t 3.4:20-7:20\\n\\t 4.7:30-10:30\")\n",
    "    print(\"Screen 2=1.10:15-1:15\\n\\t 2.1:25-4:25\\n\\t 3.4:35-7:35\\n\\t 4.7:45-10:45\")\n",
    "    print(\"Screen 3=1.10:30-1:30\\n\\t 2.1:40-4:40\\n\\t 3.4:50-7:50\\n\\t 4.8:00-10:45\")\n",
    "    s=int(input(\"Please select screen \"))\n",
    "    if s==1:\n",
    "        print(\"You have selected Screen 1\")    \n",
    "    elif s==2:\n",
    "        print(\"You have selected Screen 2\")\n",
    "    elif s==3:\n",
    "        print(\"You have selected Screen 3\")\n",
    "    elif s==4:\n",
    "        theatre()\n",
    "    else:\n",
    "        print(\"Please enter a valid option\")\n",
    "        screen()\n",
    "    time(s)\n",
    "    return\n",
    "    \n"
   ],
   "outputs": [],
   "execution_count": null
  },
  {
   "cell_type": "code",
   "id": "83aab0ad",
   "metadata": {},
   "source": [
    "def time(s):\n",
    "    \n",
    "    \n",
    "    slot1 = {\n",
    "        \"1\": \"10.00-1.00\",\n",
    "        \"2\": \"1.10-4.10\",\n",
    "        \"3\": \"4.20-7.20\",\n",
    "        \"4\": \"7.30-10.30\"\n",
    "    }\n",
    "    slot2 = {\n",
    "        \"1\": \"10.15-1.15\",\n",
    "        \"2\": \"1.25-4.25\",\n",
    "        \"3\": \"4.35-7.35\",\n",
    "        \"4\": \"7.45-10.45\"\n",
    "    }\n",
    "    slot3 = {\n",
    "        \"1\": \"10.30-1.30\",\n",
    "        \"2\": \"1.40-4.40\",\n",
    "        \"3\": \"4.50-7.50\",\n",
    "        \"4\": \"8.00-10.45\"\n",
    "    }\n",
    "    \n",
    "   \n",
    "    \n",
    "    if s==1:\n",
    "        print(\"please select timings \")\n",
    "        print(\"Available timings\")\n",
    "        print(\"1. 10:00-1:00\\n2. 1:10-4:10\\n3. 4:20-7:20\\n4. 7:30-10:30\")\n",
    "        time=input()\n",
    "        print(\"Selected time is \",slot1[time])\n",
    "    elif s==2:\n",
    "        print(\"please select timings \")\n",
    "        print(\"Available timings\")\n",
    "        print(\"1. 10:15-1:15\\n2. 1:25-4:25\\n3. 4:35-7:35\\n4. 7:45-10:45\")\n",
    "        time=input()\n",
    "        print(\"Selected time is \",slot2[time])\n",
    "    elif s==3:\n",
    "        print(\"please select timings \")\n",
    "        print(\"Available timings\")\n",
    "        print(\"1. 10:30-1:30\\n2. 1:40-4:40\\n3. 4:50-7:50\\n4. 8:00-10:45\")\n",
    "        time=input()\n",
    "        print(\"Selected time is \",slot3[time])\n",
    "    elif s==4:\n",
    "        screen()\n",
    "    else:\n",
    "        print(\"please enter a valid option\")\n",
    "        time(s)\n",
    "    donation()\n",
    "    return\n",
    "\n",
    "   \n",
    "\n",
    "    \n",
    "    "
   ],
   "outputs": [],
   "execution_count": null
  },
  {
   "cell_type": "code",
   "id": "a6e46218",
   "metadata": {
    "jupyter": {
     "is_executing": true
    }
   },
   "source": [
    "def donation():\n",
    "    print(\"Do you wish to donate 5 Rs Women Empowerment funds\\n1.Yes\\n2.No\")\n",
    "    d=int(input())\n",
    "    if d==1:\n",
    "        print(\"Thank you for your kind donation\")\n",
    "        print(\"Enjoy your movie while having a nice day!!\\n Thank you for using Book My Show\")\n",
    "    elif d==2:\n",
    "        print(\"Enjoy your movie while having a nice day!!\\n Thank you for using Book My Show\")\n",
    "    else:\n",
    "        print(\"Please enter a valid option\")\n",
    "        donation()\n",
    "    \n",
    "    return\n",
    "\n",
    "        \n",
    "    \n",
    "        \n",
    "    \n",
    "    \n"
   ],
   "outputs": [],
   "execution_count": null
  },
  {
   "cell_type": "code",
   "id": "f4f54c77",
   "metadata": {},
   "source": [
    "city()"
   ],
   "outputs": [],
   "execution_count": null
  },
  {
   "cell_type": "code",
   "id": "b00c6091",
   "metadata": {},
   "source": [
    "\n",
    "    \n"
   ],
   "outputs": [],
   "execution_count": null
  },
  {
   "cell_type": "code",
   "id": "f7080c9f",
   "metadata": {},
   "source": [],
   "outputs": [],
   "execution_count": null
  },
  {
   "cell_type": "code",
   "id": "33947909",
   "metadata": {},
   "source": [],
   "outputs": [],
   "execution_count": null
  }
 ],
 "metadata": {
  "kernelspec": {
   "display_name": "Python 3 (ipykernel)",
   "language": "python",
   "name": "python3"
  },
  "language_info": {
   "codemirror_mode": {
    "name": "ipython",
    "version": 3
   },
   "file_extension": ".py",
   "mimetype": "text/x-python",
   "name": "python",
   "nbconvert_exporter": "python",
   "pygments_lexer": "ipython3",
   "version": "3.9.12"
  }
 },
 "nbformat": 4,
 "nbformat_minor": 5
}
